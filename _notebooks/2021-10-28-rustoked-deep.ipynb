{
  "nbformat": 4,
  "nbformat_minor": 0,
  "metadata": {
    "colab": {
      "name": "rustoked-deep.ipynb",
      "provenance": [],
      "collapsed_sections": []
    },
    "kernelspec": {
      "name": "python3",
      "display_name": "Python 3"
    },
    "language_info": {
      "name": "python"
    },
    "accelerator": "GPU"
  },
  "cells": [
    {
      "cell_type": "markdown",
      "metadata": {
        "id": "525bxNv8PrLP"
      },
      "source": [
        "# \"R.U.Stoked: Go Deep!\"\n",
        "> \"Here I have tried to tackle a text classification problem using RNN (deep learning). I wrote abou first phase of this personal project which was implemented in sklearn using the ensemble ReandomForest classifier.\"\n",
        "\n",
        "- toc: true\n",
        "- branch: master\n",
        "- badges: true\n",
        "- comments: true\n",
        "- categories: [text classifier, deep learning, pytorch, fastai, sentiment analysis, RNNs]\n",
        "- image: images/rustoked_deep/sm_preview.png\n",
        "- hide: false\n",
        "- search_exclude: true"
      ]
    },
    {
      "cell_type": "markdown",
      "metadata": {
        "id": "G7fw281jegkH"
      },
      "source": [
        "![](2021-10-28-rustoked-deep/cover.jpg)"
      ]
    },
    {
      "cell_type": "markdown",
      "metadata": {
        "id": "HArO1VCIf_OM"
      },
      "source": [
        "# Introduction\n",
        "In order to explore further possibilities to improve my personal project [R.U.Stoked](https://mohsen-saki.github.io/bordar/nlp/sentiment%20analysis/machine%20lerarning/sklearn/data%20processing/pandas/bokeh/random%20forest/feature%20engineering/2021/03/17/rustoked.html), I have developed here a neural net (deep learning) application to see how it will pan out given my problem case. \n",
        "> **Just a quick recap:** in this problem I have been trying to capture a third sentiment class `disengaged` among `stoked` and `dissatisfied` user reviews. The main idea is identifying a group of users/customers that belong to a gray area and are probably an interesting category for a business to focus on (in _churn_ or _loyalty_ business cases).\n",
        "\n",
        "\n",
        "I have used `Pytorch` and on top of that `fastai` library to do so. Feel free to give it a go by opening this notebook in google colab."
      ]
    },
    {
      "cell_type": "code",
      "metadata": {
        "id": "Vnqzl6Of_OdP"
      },
      "source": [
        "#collapse\n",
        "!pip install -Uqq fastbook\n",
        "import fastbook\n",
        "fastbook.setup_book()\n",
        "\n",
        "from fastbook import *\n",
        "from fastai.text.all import *\n",
        "\n",
        "import warnings\n",
        "warnings.filterwarnings('ignore')\n",
        "\n",
        "\n",
        "# utility functions used to clean and prepoare the dataset\n",
        "def get_clean_df(df, drop_columns=False):\n",
        "    \"\"\"\n",
        "    cleanup and format initial DataFrame\n",
        "    :param df: raw DataFrame\n",
        "    :return: Processed DataFrame \n",
        "    \"\"\"\n",
        "\n",
        "    # concat `title`, `pros`, and `cons` as body of each review\n",
        "    df['reviews'] = df['title'].str.cat(df['pros'].str.cat(df['cons'], sep=\" \", na_rep=\"\"), sep=\" \", na_rep=\"\")\n",
        "    df.drop(['title', 'pros', 'cons'], axis=1, inplace=True)\n",
        "\n",
        "    # handling missing data\n",
        "    df['job_title'] = df['job_title'].fillna('unknown')\n",
        "    df['location'] = df['location'].fillna('Australia')\n",
        "\n",
        "    # casting right type to column\n",
        "    df['career_opportunity_rating'] = df['career_opportunity_rating'].astype(int)\n",
        "    df['work_life_balance_rating'] = df['work_life_balance_rating'].astype(int)\n",
        "    df['work_env_rating'] = df['work_env_rating'].astype(int)\n",
        "    df['management_rating'] = df['management_rating'].astype(int)\n",
        "    df['benefits_rating'] = df['benefits_rating'].astype(int)\n",
        "    df['diversity_rating'] = df['diversity_rating'].astype(int)\n",
        "    df['overall_rating'] = df['overall_rating'].astype(int)\n",
        "\n",
        "    # cleaning 'recommendation' & 'salary' columns\n",
        "    df['recommendation'] = df['recommendation'].str.split().str[-1]\n",
        "    df['salary'] = df['salary'].str.split().str[-1]\n",
        "\n",
        "    # new column for overal rating calculated based on employee ratings\n",
        "    df[\"calculated_rating\"] = df[[\"career_opportunity_rating\", \"work_life_balance_rating\",\n",
        "                              \"work_env_rating\", \"management_rating\", \"benefits_rating\",\n",
        "                              \"diversity_rating\"]].mean(axis=1).round()\n",
        "\n",
        "    # removing those reviews with two points difference between overall and calculated rating\n",
        "    df = df[~(abs(df['overall_rating'] - df['calculated_rating']) > 1)]\n",
        "\n",
        "    # mapping ratings to three different category labels\n",
        "    df[\"labels\"] = [get_labels(rating) for rating in df[\"overall_rating\"]]\n",
        "\n",
        "    if drop_columns:\n",
        "        df.drop(drop_columns, axis=1, inplace=True)\n",
        "\n",
        "    return df\n",
        "\n",
        "\n",
        "\n",
        "def get_labels(rating):\n",
        "    \"\"\"\n",
        "    map each reating to a label category used by clean_raw_dataframe() function\n",
        "    :rating: overal rating given by employee\n",
        "    \"return: data labels\n",
        "    \"\"\"\n",
        "    if rating in [1, 2]: return \"dissatisfied\"\n",
        "    elif rating == 3: return \"disengaged\"\n",
        "    else: return \"stoked\"\n"
      ],
      "execution_count": 15,
      "outputs": []
    },
    {
      "cell_type": "markdown",
      "metadata": {
        "id": "391ass7lMqnH"
      },
      "source": [
        "# Dataset\n",
        "I used [the same dataset](https://github.com/mohsen-saki/RUStoked/tree/master/data) which is fairly a small set of data points (about 13k) and not quite evenly distributed regarding target labels."
      ]
    },
    {
      "cell_type": "code",
      "metadata": {
        "colab": {
          "base_uri": "https://localhost:8080/",
          "height": 225
        },
        "id": "HGqbHziw_7-a",
        "outputId": "d58fc7de-22d8-44e2-b50d-7131470a5a7e"
      },
      "source": [
        "#collapse\n",
        "PATH_DATA = \"https://github.com/mohsen-saki/RUStoked/raw/master/data/raw_data.csv\"\n",
        "\n",
        "df = pd.read_csv(PATH_DATA)\n",
        "\n",
        "df = get_clean_df(df)\n",
        "df = df[['reviews', 'labels']]\n",
        "df.head(3)"
      ],
      "execution_count": 2,
      "outputs": [
        {
          "output_type": "execute_result",
          "data": {
            "text/html": [
              "<div>\n",
              "<style scoped>\n",
              "    .dataframe tbody tr th:only-of-type {\n",
              "        vertical-align: middle;\n",
              "    }\n",
              "\n",
              "    .dataframe tbody tr th {\n",
              "        vertical-align: top;\n",
              "    }\n",
              "\n",
              "    .dataframe thead th {\n",
              "        text-align: right;\n",
              "    }\n",
              "</style>\n",
              "<table border=\"1\" class=\"dataframe\">\n",
              "  <thead>\n",
              "    <tr style=\"text-align: right;\">\n",
              "      <th></th>\n",
              "      <th>reviews</th>\n",
              "      <th>labels</th>\n",
              "    </tr>\n",
              "  </thead>\n",
              "  <tbody>\n",
              "    <tr>\n",
              "      <th>0</th>\n",
              "      <td>‘Okay, given your prepared to work long days.’ Plenty of hours for casual staff if willing to work a variety of shifts. If you work hard there are programs in place to progress your career. Salary for DM can be okay depending on how well you can negotiate. Poor work/life balance for DM's who want to achieve KPI's as there is not the budget to achieve with team, you are required to put in quite a few hours extra sometimes upwards of 60+. Some team can be reluctant to do their job properly and do not react well to any change, namely older full time team who have worked for the business for a...</td>\n",
              "      <td>disengaged</td>\n",
              "    </tr>\n",
              "    <tr>\n",
              "      <th>1</th>\n",
              "      <td>‘Great job to gain work experience and interpersonal skills, plenty of opportunity for moving into manager roles. ’ Great job to further develop interpersonal skills. Opportunity to work in different areas and generally working with a great team.  Working on weekends and public holidays often.</td>\n",
              "      <td>stoked</td>\n",
              "    </tr>\n",
              "    <tr>\n",
              "      <th>2</th>\n",
              "      <td>‘Great for someone starting out. Can get stifled in Middle Management.’ Boss is not intense. Good Work Vs Life balance. \\r\\nInteresting workplace. Great customers. Moving the business through change. Setting the vision. \\r\\nCareer progression, navigating office politics. \\r\\nDiversity should not just be about gender equality. But, also include age, race, sexual preference.</td>\n",
              "      <td>stoked</td>\n",
              "    </tr>\n",
              "  </tbody>\n",
              "</table>\n",
              "</div>"
            ],
            "text/plain": [
              "                                                                                                                                                                                                                                                                                                                                                                                                                                                                                                                                                                                                                   reviews  \\\n",
              "0  ‘Okay, given your prepared to work long days.’ Plenty of hours for casual staff if willing to work a variety of shifts. If you work hard there are programs in place to progress your career. Salary for DM can be okay depending on how well you can negotiate. Poor work/life balance for DM's who want to achieve KPI's as there is not the budget to achieve with team, you are required to put in quite a few hours extra sometimes upwards of 60+. Some team can be reluctant to do their job properly and do not react well to any change, namely older full time team who have worked for the business for a...   \n",
              "1                                                                                                                                                                                                                                                                                                                  ‘Great job to gain work experience and interpersonal skills, plenty of opportunity for moving into manager roles. ’ Great job to further develop interpersonal skills. Opportunity to work in different areas and generally working with a great team.  Working on weekends and public holidays often.    \n",
              "2                                                                                                                                                                                                                                  ‘Great for someone starting out. Can get stifled in Middle Management.’ Boss is not intense. Good Work Vs Life balance. \\r\\nInteresting workplace. Great customers. Moving the business through change. Setting the vision. \\r\\nCareer progression, navigating office politics. \\r\\nDiversity should not just be about gender equality. But, also include age, race, sexual preference.   \n",
              "\n",
              "       labels  \n",
              "0  disengaged  \n",
              "1      stoked  \n",
              "2      stoked  "
            ]
          },
          "metadata": {},
          "execution_count": 2
        }
      ]
    },
    {
      "cell_type": "code",
      "metadata": {
        "colab": {
          "base_uri": "https://localhost:8080/"
        },
        "id": "M-a9IBavEzCF",
        "outputId": "8e85db8e-ae84-42fd-f213-7249682e401e"
      },
      "source": [
        "#collapse\n",
        "print(\"Total number of each label in the dataset: \")\n",
        "df.labels.value_counts()"
      ],
      "execution_count": 3,
      "outputs": [
        {
          "output_type": "stream",
          "name": "stdout",
          "text": [
            "Total number of each label in the dataset: \n"
          ]
        },
        {
          "output_type": "execute_result",
          "data": {
            "text/plain": [
              "stoked          6076\n",
              "dissatisfied    3666\n",
              "disengaged      2359\n",
              "Name: labels, dtype: int64"
            ]
          },
          "metadata": {},
          "execution_count": 3
        }
      ]
    },
    {
      "cell_type": "markdown",
      "metadata": {
        "id": "gQAT5HUANVZT"
      },
      "source": [
        "# Model Development\n",
        "I applied the [**ULMFiT**](https://arxiv.org/abs/1801.06146) approach which is basically fine tuning the language model to the dataset before training a classifier using transfer learning. fastai uses `wt103-fwd` as default pre-trained language model trained on Wikipedia articles.\n",
        "\n",
        "Processed text look like this:"
      ]
    },
    {
      "cell_type": "code",
      "metadata": {
        "id": "EJsebW-cHTlB",
        "colab": {
          "base_uri": "https://localhost:8080/",
          "height": 244
        },
        "outputId": "d45b10d5-8c84-4519-fdda-cb1434c7a06e"
      },
      "source": [
        "#collapse\n",
        "dls_lm = DataBlock(\n",
        "    blocks=TextBlock.from_df('reviews', is_lm=True, seq_len=72),\n",
        "    get_items=ColReader('reviews'),\n",
        "    splitter=RandomSplitter(0.1),\n",
        ").dataloaders(df, bs=128)\n",
        "\n",
        "dls_lm.show_batch(max_n=2)"
      ],
      "execution_count": 4,
      "outputs": [
        {
          "output_type": "display_data",
          "data": {
            "text/html": [
              "<table border=\"1\" class=\"dataframe\">\n",
              "  <thead>\n",
              "    <tr style=\"text-align: right;\">\n",
              "      <th></th>\n",
              "      <th>text</th>\n",
              "      <th>text_</th>\n",
              "    </tr>\n",
              "  </thead>\n",
              "  <tbody>\n",
              "    <tr>\n",
              "      <th>0</th>\n",
              "      <td>xxbos ‘ open xxunk is not tolerated . ’ xxmaj flexible working arrangements , work life balance . xxmaj management do not listen , stick to their ideas and their wellbeing xxbos ‘ love working in xxup cba . ’ xxmaj great culture and great people . xxmaj flexible working hours allowed . xxmaj overall good opportunities to move around in the business . xxmaj bureaucracy in some departments . xxbos ‘</td>\n",
              "      <td>‘ open xxunk is not tolerated . ’ xxmaj flexible working arrangements , work life balance . xxmaj management do not listen , stick to their ideas and their wellbeing xxbos ‘ love working in xxup cba . ’ xxmaj great culture and great people . xxmaj flexible working hours allowed . xxmaj overall good opportunities to move around in the business . xxmaj bureaucracy in some departments . xxbos ‘ very</td>\n",
              "    </tr>\n",
              "    <tr>\n",
              "      <th>1</th>\n",
              "      <td>and travel xxmaj none i enjoyed working there xxbos ‘ over worked for no appreciation ’ xxmaj busy because of lack of staff makes it an xxunk challenge working there xxmaj no training upper xxmaj management are horrible and always looking to blame someone for any minor issue they could just fix and move on xxbos ‘ so so ’ xxmaj friends xxmaj managers xxbos ‘ pleasant ’ xxmaj working with a</td>\n",
              "      <td>travel xxmaj none i enjoyed working there xxbos ‘ over worked for no appreciation ’ xxmaj busy because of lack of staff makes it an xxunk challenge working there xxmaj no training upper xxmaj management are horrible and always looking to blame someone for any minor issue they could just fix and move on xxbos ‘ so so ’ xxmaj friends xxmaj managers xxbos ‘ pleasant ’ xxmaj working with a great</td>\n",
              "    </tr>\n",
              "  </tbody>\n",
              "</table>"
            ],
            "text/plain": [
              "<IPython.core.display.HTML object>"
            ]
          },
          "metadata": {}
        }
      ]
    },
    {
      "cell_type": "markdown",
      "metadata": {
        "id": "dv5TFnnIllOV"
      },
      "source": [
        "## Fine-Tuning the Language Model"
      ]
    },
    {
      "cell_type": "markdown",
      "metadata": {
        "id": "dvaq8pxdBxN1"
      },
      "source": [
        "First, I will fine tune the task specific layer (vocab embeddings) of the language model for one epoch."
      ]
    },
    {
      "cell_type": "code",
      "metadata": {
        "id": "qFPtT0NZS0kP",
        "colab": {
          "base_uri": "https://localhost:8080/",
          "height": 79
        },
        "outputId": "3c694f86-d115-4112-db26-40a30444c650"
      },
      "source": [
        "#collapse\n",
        "learn = language_model_learner(\n",
        "    dls_lm, AWD_LSTM,\n",
        "    metrics=[accuracy, Perplexity]\n",
        ").to_fp16()\n",
        "\n",
        "learn.fit_one_cycle(1, 2e-2)"
      ],
      "execution_count": 16,
      "outputs": [
        {
          "output_type": "display_data",
          "data": {
            "text/html": [
              "<table border=\"1\" class=\"dataframe\">\n",
              "  <thead>\n",
              "    <tr style=\"text-align: left;\">\n",
              "      <th>epoch</th>\n",
              "      <th>train_loss</th>\n",
              "      <th>valid_loss</th>\n",
              "      <th>accuracy</th>\n",
              "      <th>perplexity</th>\n",
              "      <th>time</th>\n",
              "    </tr>\n",
              "  </thead>\n",
              "  <tbody>\n",
              "    <tr>\n",
              "      <td>0</td>\n",
              "      <td>4.493875</td>\n",
              "      <td>3.905818</td>\n",
              "      <td>0.269686</td>\n",
              "      <td>49.690720</td>\n",
              "      <td>01:20</td>\n",
              "    </tr>\n",
              "  </tbody>\n",
              "</table>"
            ],
            "text/plain": [
              "<IPython.core.display.HTML object>"
            ]
          },
          "metadata": {}
        }
      ]
    },
    {
      "cell_type": "markdown",
      "metadata": {
        "id": "x0wscyT89b5p"
      },
      "source": [
        "Then, unfreeze the model and fine-tune for a couple of more epochs."
      ]
    },
    {
      "cell_type": "code",
      "metadata": {
        "colab": {
          "base_uri": "https://localhost:8080/",
          "height": 264
        },
        "id": "UhWxjvW2Tci1",
        "outputId": "492295f8-e12d-4217-bea5-8b3313927629"
      },
      "source": [
        "#collapse\n",
        "learn.unfreeze()\n",
        "learn.fit_one_cycle(7, 2e-3)"
      ],
      "execution_count": 6,
      "outputs": [
        {
          "output_type": "display_data",
          "data": {
            "text/html": [
              "<table border=\"1\" class=\"dataframe\">\n",
              "  <thead>\n",
              "    <tr style=\"text-align: left;\">\n",
              "      <th>epoch</th>\n",
              "      <th>train_loss</th>\n",
              "      <th>valid_loss</th>\n",
              "      <th>accuracy</th>\n",
              "      <th>perplexity</th>\n",
              "      <th>time</th>\n",
              "    </tr>\n",
              "  </thead>\n",
              "  <tbody>\n",
              "    <tr>\n",
              "      <td>0</td>\n",
              "      <td>4.033870</td>\n",
              "      <td>3.735572</td>\n",
              "      <td>0.287698</td>\n",
              "      <td>41.911976</td>\n",
              "      <td>01:37</td>\n",
              "    </tr>\n",
              "    <tr>\n",
              "      <td>1</td>\n",
              "      <td>3.863568</td>\n",
              "      <td>3.597275</td>\n",
              "      <td>0.303558</td>\n",
              "      <td>36.498657</td>\n",
              "      <td>01:37</td>\n",
              "    </tr>\n",
              "    <tr>\n",
              "      <td>2</td>\n",
              "      <td>3.730047</td>\n",
              "      <td>3.536184</td>\n",
              "      <td>0.310000</td>\n",
              "      <td>34.335640</td>\n",
              "      <td>01:38</td>\n",
              "    </tr>\n",
              "    <tr>\n",
              "      <td>3</td>\n",
              "      <td>3.607229</td>\n",
              "      <td>3.496449</td>\n",
              "      <td>0.315343</td>\n",
              "      <td>32.998066</td>\n",
              "      <td>01:38</td>\n",
              "    </tr>\n",
              "    <tr>\n",
              "      <td>4</td>\n",
              "      <td>3.494903</td>\n",
              "      <td>3.468141</td>\n",
              "      <td>0.319108</td>\n",
              "      <td>32.077065</td>\n",
              "      <td>01:36</td>\n",
              "    </tr>\n",
              "    <tr>\n",
              "      <td>5</td>\n",
              "      <td>3.430470</td>\n",
              "      <td>3.460073</td>\n",
              "      <td>0.320368</td>\n",
              "      <td>31.819315</td>\n",
              "      <td>01:41</td>\n",
              "    </tr>\n",
              "    <tr>\n",
              "      <td>6</td>\n",
              "      <td>3.375872</td>\n",
              "      <td>3.460871</td>\n",
              "      <td>0.321032</td>\n",
              "      <td>31.844700</td>\n",
              "      <td>01:37</td>\n",
              "    </tr>\n",
              "  </tbody>\n",
              "</table>"
            ],
            "text/plain": [
              "<IPython.core.display.HTML object>"
            ]
          },
          "metadata": {}
        }
      ]
    },
    {
      "cell_type": "markdown",
      "metadata": {
        "id": "B4umMqnx9gL7"
      },
      "source": [
        "In the end, I saved the `encoder` (fine tuned model without the task specific final layer) for the next step which is training a text classifier."
      ]
    },
    {
      "cell_type": "code",
      "metadata": {
        "id": "5RkrDW9UTqkh"
      },
      "source": [
        "#collapse\n",
        "learn.save_encoder('finetuned')"
      ],
      "execution_count": 7,
      "outputs": []
    },
    {
      "cell_type": "markdown",
      "metadata": {
        "id": "U9zNnLVyl6Cx"
      },
      "source": [
        "## Fine-Tuning Text Classifier"
      ]
    },
    {
      "cell_type": "markdown",
      "metadata": {
        "id": "F8qxgL_Q_8UB"
      },
      "source": [
        "Next is time for training the classifier. Need to load saved `encoder` first.\n",
        "Then to fine tune the model while unfreezing little by little.\n",
        "\n",
        "The dataset for classfier look like this:\n"
      ]
    },
    {
      "cell_type": "code",
      "metadata": {
        "colab": {
          "base_uri": "https://localhost:8080/",
          "height": 342
        },
        "id": "YgRz9cMtX1FI",
        "outputId": "8f819ab1-98f6-4340-9f10-b4db278981cf"
      },
      "source": [
        "#collapse\n",
        "dls_clas = DataBlock(\n",
        "    blocks=(TextBlock.from_df('reviews', vocab=dls_lm.vocab, seq_len=72), CategoryBlock),\n",
        "    get_x = ColReader('text'),\n",
        "    get_y = ColReader('labels'),\n",
        "    splitter=RandomSplitter(0.2)\n",
        ").dataloaders(df, bs=128)\n",
        "\n",
        "dls_clas.show_batch(max_n=3)"
      ],
      "execution_count": 8,
      "outputs": [
        {
          "output_type": "display_data",
          "data": {
            "text/html": [
              ""
            ],
            "text/plain": [
              "<IPython.core.display.HTML object>"
            ]
          },
          "metadata": {}
        },
        {
          "output_type": "display_data",
          "data": {
            "text/html": [
              "<table border=\"1\" class=\"dataframe\">\n",
              "  <thead>\n",
              "    <tr style=\"text-align: right;\">\n",
              "      <th></th>\n",
              "      <th>text</th>\n",
              "      <th>category</th>\n",
              "    </tr>\n",
              "  </thead>\n",
              "  <tbody>\n",
              "    <tr>\n",
              "      <th>0</th>\n",
              "      <td>xxbos ‘ i tried to do the best job i could in difficult circumstances , but was xxunk for it . ’ i enjoyed the physically demanding and xxunk stimulating nature of the job in my work as a xxmaj field xxmaj xxunk over 35 years in various customer - facing roles . i found that working in company with groups of individuals who had the commitment to provide the best that they could to a very high standard to be both xxunk and inspirational . xxmaj the people i worked with were open and willing to giving advice and assistance without xxunk or xxunk . xxmaj while it was impossible to avoid personality conflicts all of the time , mutual respect for the individual was evident due to the knowledge , skills , capabilities , and experience that each of my colleagues xxunk . i enjoyed the challenges related</td>\n",
              "      <td>dissatisfied</td>\n",
              "    </tr>\n",
              "    <tr>\n",
              "      <th>1</th>\n",
              "      <td>xxbos ‘ i would n't recommend the xxmaj graduate xxmaj program here ’ xxmaj met some really great people here and my direct mangers were always lovely . xxmaj though incredibly time - poor , they were always friendly and did their best to support you when possible . xxmaj you do learn a lot about the xxmaj retail / xxup xxunk industry and related fields ( product xxmaj development , xxmaj marketing etc ) so if you 're willing to put in long hours and ask lots of questions , you will gain a lot of knowledge and valuable industry experience . xxmaj the pay was also excellent , though you have to weigh up if it 's really worth it based on the lack of work - life balance . xxmaj if you are a very competitive , profit - driven person and your career is your priority</td>\n",
              "      <td>dissatisfied</td>\n",
              "    </tr>\n",
              "    <tr>\n",
              "      <th>2</th>\n",
              "      <td>xxbos ‘ great team , learnt a xxup lot , fast paced , can be stressful and challenging . ’ xxmaj the xxunk are awesome with amazing xxunk , great learning sessions and culture building activities . \\n\\n xxmaj it 's a fast paced environment so you 'll never get bored . \\n\\n xxmaj my team was very supportive and were flexible with my work arrangements well beyond any other company xxmaj i 've ever worked for . * this may not be the same across every team * \\n\\n xxup seek is inclusive and genuinely wants to match the right candidate to the right job . xxmaj xxunk employers on the issues surrounding \" xxunk bias \" and putting tools in place to help minimise it was particularly rewarding to be a part of . xxmaj you see many xxup xxunk , people with xxunk and different age xxunk</td>\n",
              "      <td>stoked</td>\n",
              "    </tr>\n",
              "  </tbody>\n",
              "</table>"
            ],
            "text/plain": [
              "<IPython.core.display.HTML object>"
            ]
          },
          "metadata": {}
        }
      ]
    },
    {
      "cell_type": "markdown",
      "metadata": {
        "id": "rCw6Pfu7CPzw"
      },
      "source": [
        "First, train for one epoch:"
      ]
    },
    {
      "cell_type": "code",
      "metadata": {
        "id": "RQcxdwKQhTlP",
        "colab": {
          "base_uri": "https://localhost:8080/",
          "height": 79
        },
        "outputId": "c9e78e3b-5f7d-4e27-8351-2f685ab0ff99"
      },
      "source": [
        "#collapse\n",
        "learn = text_classifier_learner(dls_clas, AWD_LSTM, metrics=accuracy).to_fp16()\n",
        "\n",
        "learn.load_encoder('finetuned')\n",
        "\n",
        "learn.fit_one_cycle(1, 2e-2)"
      ],
      "execution_count": 9,
      "outputs": [
        {
          "output_type": "display_data",
          "data": {
            "text/html": [
              "<table border=\"1\" class=\"dataframe\">\n",
              "  <thead>\n",
              "    <tr style=\"text-align: left;\">\n",
              "      <th>epoch</th>\n",
              "      <th>train_loss</th>\n",
              "      <th>valid_loss</th>\n",
              "      <th>accuracy</th>\n",
              "      <th>time</th>\n",
              "    </tr>\n",
              "  </thead>\n",
              "  <tbody>\n",
              "    <tr>\n",
              "      <td>0</td>\n",
              "      <td>0.659904</td>\n",
              "      <td>0.644060</td>\n",
              "      <td>0.723140</td>\n",
              "      <td>00:28</td>\n",
              "    </tr>\n",
              "  </tbody>\n",
              "</table>"
            ],
            "text/plain": [
              "<IPython.core.display.HTML object>"
            ]
          },
          "metadata": {}
        }
      ]
    },
    {
      "cell_type": "markdown",
      "metadata": {
        "id": "EC9QPyg7AwWp"
      },
      "source": [
        "Train one more epoch by unfreezing two last layers:"
      ]
    },
    {
      "cell_type": "code",
      "metadata": {
        "colab": {
          "base_uri": "https://localhost:8080/",
          "height": 79
        },
        "id": "pKWUhT4YiN4t",
        "outputId": "1c4cbdeb-08a9-4da7-bd0c-b7d44df94861"
      },
      "source": [
        "#collapse\n",
        "learn.freeze_to(-2)\n",
        "learn.fit_one_cycle(1, slice(1e-2/(2.6**4),1e-2))"
      ],
      "execution_count": 10,
      "outputs": [
        {
          "output_type": "display_data",
          "data": {
            "text/html": [
              "<table border=\"1\" class=\"dataframe\">\n",
              "  <thead>\n",
              "    <tr style=\"text-align: left;\">\n",
              "      <th>epoch</th>\n",
              "      <th>train_loss</th>\n",
              "      <th>valid_loss</th>\n",
              "      <th>accuracy</th>\n",
              "      <th>time</th>\n",
              "    </tr>\n",
              "  </thead>\n",
              "  <tbody>\n",
              "    <tr>\n",
              "      <td>0</td>\n",
              "      <td>0.613120</td>\n",
              "      <td>0.599738</td>\n",
              "      <td>0.735537</td>\n",
              "      <td>00:31</td>\n",
              "    </tr>\n",
              "  </tbody>\n",
              "</table>"
            ],
            "text/plain": [
              "<IPython.core.display.HTML object>"
            ]
          },
          "metadata": {}
        }
      ]
    },
    {
      "cell_type": "markdown",
      "metadata": {
        "id": "hptU41c0BZjZ"
      },
      "source": [
        "Train one more epoch by unfreezing three last layers:"
      ]
    },
    {
      "cell_type": "code",
      "metadata": {
        "colab": {
          "base_uri": "https://localhost:8080/",
          "height": 79
        },
        "id": "CLivv3WNidXr",
        "outputId": "1850190b-9b6d-4299-9b87-d41f25f47121"
      },
      "source": [
        "#collapse\n",
        "learn.freeze_to(-3)\n",
        "learn.fit_one_cycle(1, slice(5e-3/(2.6**4),5e-3))"
      ],
      "execution_count": 11,
      "outputs": [
        {
          "output_type": "display_data",
          "data": {
            "text/html": [
              "<table border=\"1\" class=\"dataframe\">\n",
              "  <thead>\n",
              "    <tr style=\"text-align: left;\">\n",
              "      <th>epoch</th>\n",
              "      <th>train_loss</th>\n",
              "      <th>valid_loss</th>\n",
              "      <th>accuracy</th>\n",
              "      <th>time</th>\n",
              "    </tr>\n",
              "  </thead>\n",
              "  <tbody>\n",
              "    <tr>\n",
              "      <td>0</td>\n",
              "      <td>0.549451</td>\n",
              "      <td>0.581448</td>\n",
              "      <td>0.743388</td>\n",
              "      <td>00:50</td>\n",
              "    </tr>\n",
              "  </tbody>\n",
              "</table>"
            ],
            "text/plain": [
              "<IPython.core.display.HTML object>"
            ]
          },
          "metadata": {}
        }
      ]
    },
    {
      "cell_type": "markdown",
      "metadata": {
        "id": "uX9dKWDgBk37"
      },
      "source": [
        "And last, two more epochs having all layers unfreezed:"
      ]
    },
    {
      "cell_type": "code",
      "metadata": {
        "colab": {
          "base_uri": "https://localhost:8080/",
          "height": 110
        },
        "id": "0NDkgeX7iqZE",
        "outputId": "88a9b9f8-7346-40ef-de59-069c07a93d11"
      },
      "source": [
        "#collapse\n",
        "learn.unfreeze()\n",
        "learn.fit_one_cycle(2, slice(1e-3/(2.6**4),1e-3))"
      ],
      "execution_count": 12,
      "outputs": [
        {
          "output_type": "display_data",
          "data": {
            "text/html": [
              "<table border=\"1\" class=\"dataframe\">\n",
              "  <thead>\n",
              "    <tr style=\"text-align: left;\">\n",
              "      <th>epoch</th>\n",
              "      <th>train_loss</th>\n",
              "      <th>valid_loss</th>\n",
              "      <th>accuracy</th>\n",
              "      <th>time</th>\n",
              "    </tr>\n",
              "  </thead>\n",
              "  <tbody>\n",
              "    <tr>\n",
              "      <td>0</td>\n",
              "      <td>0.487775</td>\n",
              "      <td>0.610825</td>\n",
              "      <td>0.743802</td>\n",
              "      <td>01:04</td>\n",
              "    </tr>\n",
              "    <tr>\n",
              "      <td>1</td>\n",
              "      <td>0.457831</td>\n",
              "      <td>0.620456</td>\n",
              "      <td>0.739256</td>\n",
              "      <td>01:04</td>\n",
              "    </tr>\n",
              "  </tbody>\n",
              "</table>"
            ],
            "text/plain": [
              "<IPython.core.display.HTML object>"
            ]
          },
          "metadata": {}
        }
      ]
    },
    {
      "cell_type": "markdown",
      "metadata": {
        "id": "jZCjUIwnrfCQ"
      },
      "source": [
        "# Model Performance & Outcome"
      ]
    },
    {
      "cell_type": "markdown",
      "metadata": {
        "id": "svA-SZ9sGEbP"
      },
      "source": [
        "Comparing model performance with the [Machine Learning version (RandomForest)](https://mohsen-saki.github.io/bordar/nlp/sentiment%20analysis/machine%20lerarning/sklearn/data%20processing/pandas/bokeh/random%20forest/feature%20engineering/2021/03/17/rustoked.html#how-did-it-go); its overall performance as well as its accuracy for target class has noticeably improved. However, it is yet far behind the benchmarks. Considering the fact that this is probably the best I can get with deep learning (unless collecting much more data for the model to learn from), it might be worth it to pick the traditional version from where I left it before.\n",
        "Having said that, I think detecting more than %30 of target class could still be a good base model as a proof of concept. Detecting that many users with some level of neutral opinion can still be a good starting point to create some values in a business case.\n"
      ]
    },
    {
      "cell_type": "code",
      "metadata": {
        "colab": {
          "base_uri": "https://localhost:8080/",
          "height": 198
        },
        "id": "PNrei1Uyi6tO",
        "outputId": "2d2b4499-26ca-4ee8-cd55-e9d321a11d16"
      },
      "source": [
        "#collapse\n",
        "interp = ClassificationInterpretation.from_learner(learn)\n",
        "interp.print_classification_report( )"
      ],
      "execution_count": 13,
      "outputs": [
        {
          "output_type": "display_data",
          "data": {
            "text/html": [
              ""
            ],
            "text/plain": [
              "<IPython.core.display.HTML object>"
            ]
          },
          "metadata": {}
        },
        {
          "output_type": "stream",
          "name": "stdout",
          "text": [
            "              precision    recall  f1-score   support\n",
            "\n",
            "  disengaged       0.41      0.31      0.35       467\n",
            "dissatisfied       0.78      0.74      0.76       770\n",
            "      stoked       0.80      0.91      0.85      1183\n",
            "\n",
            "    accuracy                           0.74      2420\n",
            "   macro avg       0.66      0.65      0.65      2420\n",
            "weighted avg       0.72      0.74      0.73      2420\n",
            "\n"
          ]
        }
      ]
    },
    {
      "cell_type": "code",
      "metadata": {
        "colab": {
          "base_uri": "https://localhost:8080/",
          "height": 311
        },
        "id": "F5_lwPGckR03",
        "outputId": "974c9efd-11b4-4e51-feb5-3f437f1e227f"
      },
      "source": [
        "#collapse\n",
        "interp.plot_confusion_matrix()"
      ],
      "execution_count": 14,
      "outputs": [
        {
          "output_type": "display_data",
          "data": {
            "image/png": "[encoded data removed]",
            "text/plain": [
              "<Figure size 432x288 with 1 Axes>"
            ]
          },
          "metadata": {
            "needs_background": "light"
          }
        }
      ]
    }
  ]
}